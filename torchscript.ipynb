{
 "cells": [
  {
   "cell_type": "code",
   "execution_count": 1,
   "id": "1fcc7a44",
   "metadata": {},
   "outputs": [
    {
     "name": "stdout",
     "output_type": "stream",
     "text": [
      "1.4.0\n",
      "0.5.0\n"
     ]
    }
   ],
   "source": [
    "import torch\n",
    "print(torch.__version__)\n",
    "# => 1.2.0\n",
    "import torchvision\n",
    "print(torchvision.__version__)\n",
    "# => 0.4.0\n"
   ]
  },
  {
   "cell_type": "code",
   "execution_count": 3,
   "id": "3804a9e0",
   "metadata": {},
   "outputs": [
    {
     "name": "stdout",
     "output_type": "stream",
     "text": [
      "(<class 'torchvision.models.resnet.ResNet'>, <class 'torch.nn.modules.module.Module'>, <class 'object'>)\n"
     ]
    }
   ],
   "source": [
    "import inspect\n",
    "\n",
    "\n",
    "# model = torchvision.models.detection.maskrcnn_resnet50_fpn()\n",
    "# model.eval()\n",
    "model = torchvision.models.resnet18(pretrained=True) # An instance of your model.\n",
    "model.eval()\n",
    "print(inspect.getmro(model.__class__))\n",
    "#=> (<class 'torchvision.models.resnet.ResNet'>, <class 'torch.nn.modules.module.Module'>, <class 'object'>)\n"
   ]
  },
  {
   "cell_type": "code",
   "execution_count": 13,
   "id": "2935144b",
   "metadata": {},
   "outputs": [],
   "source": [
    "import numpy as np\n",
    "example = torch.rand(1, 3, 224, 224) # 提供模型輸入，可以讓模型的 forward 方法使用\n",
    "traced_script_module = torch.jit.trace(model, example) # 使用 torch.jit.trace 產生一個 torch.jit.ScriptModule \n",
    "output1 = model(example)\n",
    "output2 = traced_script_module(example)\n",
    "# np.testing.assert_allclose(output1.detach().numpy(), output2.detach().numpy()) "
   ]
  },
  {
   "cell_type": "code",
   "execution_count": 14,
   "id": "95526508",
   "metadata": {},
   "outputs": [],
   "source": [
    "traced_script_module.save(\"traced_resnet_model.pt\")\n"
   ]
  },
  {
   "cell_type": "code",
   "execution_count": 15,
   "id": "433bc559",
   "metadata": {},
   "outputs": [],
   "source": [
    "import torch \n",
    "import torchvision\n",
    "input_names = ['images']\n",
    "output_names = ['label']\n",
    "model = torchvision.models.resnet18(pretrained=True) # An instance of your model.\n",
    "dummy_input = torch.autograd.Variable(torch.randn(1, 3, 224, 224))\n",
    "\n",
    "#observe model shape by netron web (https://netron.app/)\n",
    "torch.onnx.export(model, dummy_input, 'resnet.onnx', input_names=input_names, output_names=output_names)"
   ]
  },
  {
   "cell_type": "code",
   "execution_count": null,
   "id": "a8bc8d88",
   "metadata": {},
   "outputs": [],
   "source": []
  }
 ],
 "metadata": {
  "kernelspec": {
   "display_name": "conda_pytorch_p36",
   "language": "python",
   "name": "conda_pytorch_p36"
  },
  "language_info": {
   "codemirror_mode": {
    "name": "ipython",
    "version": 3
   },
   "file_extension": ".py",
   "mimetype": "text/x-python",
   "name": "python",
   "nbconvert_exporter": "python",
   "pygments_lexer": "ipython3",
   "version": "3.6.13"
  }
 },
 "nbformat": 4,
 "nbformat_minor": 5
}
