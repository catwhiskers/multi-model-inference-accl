{
 "cells": [
  {
   "cell_type": "code",
   "execution_count": 1,
   "id": "8573cf7a",
   "metadata": {},
   "outputs": [
    {
     "name": "stdout",
     "output_type": "stream",
     "text": [
      "  % Total    % Received % Xferd  Average Speed   Time    Time     Time  Current\n",
      "                                 Dload  Upload   Total   Spent    Left  Speed\n",
      "100  7341  100  7341    0     0  36521      0 --:--:-- --:--:-- --:--:-- 36705\n"
     ]
    }
   ],
   "source": [
    "!curl -O https://raw.githubusercontent.com/pytorch/serve/master/docs/images/kitten_small.jpg\n"
   ]
  },
  {
   "cell_type": "code",
   "execution_count": 11,
   "id": "4a739c7f",
   "metadata": {},
   "outputs": [
    {
     "name": "stdout",
     "output_type": "stream",
     "text": [
      "CONTAINER ID        IMAGE                           COMMAND                  CREATED             STATUS              PORTS                                                                NAMES\r\n",
      "d7492a2072eb        pytorch/torchserve:latest-gpu   \"/usr/local/bin/dock…\"   18 seconds ago      Up 17 seconds       0.0.0.0:7070-7071->7070-7071/tcp, 0.0.0.0:8080-8082->8080-8082/tcp   trusting_lumiere\r\n",
      "02be3915ca98        579fc0526e30                    \"bash -m start_with_…\"   7 days ago          Up 7 days                                                                                practical_babbage\r\n",
      "29be83ed16ce        579fc0526e30                    \"bash -m start_with_…\"   7 days ago          Up 7 days                                                                                vibrant_cori\r\n"
     ]
    }
   ],
   "source": [
    "!docker ps"
   ]
  },
  {
   "cell_type": "markdown",
   "id": "27dc192f",
   "metadata": {},
   "source": [
    "### use the container created \n",
    "docker exec -it 60bca803d771 bash \n",
    "\n",
    "### Test with concurrent consecutive curls \n",
    "./stress_test.sh -a http://127.0.0.1:8080/predictions/densenet161a -c 4 -r 100 -T kitten_small.jpg &\n",
    "./stress_test.sh -a http://127.0.0.1:8080/predictions/densenet161b -c 4 -r 100 -T kitten_small.jpg &\n",
    "./stress_test.sh -a http://127.0.0.1:8080/predictions/densenet161c -c 4 -r 100 -T kitten_small.jpg &\n"
   ]
  },
  {
   "cell_type": "code",
   "execution_count": null,
   "id": "5ef7bec5",
   "metadata": {},
   "outputs": [],
   "source": []
  }
 ],
 "metadata": {
  "kernelspec": {
   "display_name": "conda_pytorch_p36",
   "language": "python",
   "name": "conda_pytorch_p36"
  },
  "language_info": {
   "codemirror_mode": {
    "name": "ipython",
    "version": 3
   },
   "file_extension": ".py",
   "mimetype": "text/x-python",
   "name": "python",
   "nbconvert_exporter": "python",
   "pygments_lexer": "ipython3",
   "version": "3.6.13"
  }
 },
 "nbformat": 4,
 "nbformat_minor": 5
}
